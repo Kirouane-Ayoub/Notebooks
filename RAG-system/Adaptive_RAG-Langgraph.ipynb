{
  "cells": [
    {
      "cell_type": "code",
      "execution_count": null,
      "metadata": {
        "id": "NewAy8oMIkY7"
      },
      "outputs": [],
      "source": [
        "! pip install langchain_core langchain langchain_cohere langchain-community langchain-chroma duckduckgo-search langgraph"
      ]
    },
    {
      "cell_type": "code",
      "execution_count": null,
      "metadata": {
        "colab": {
          "base_uri": "https://localhost:8080/"
        },
        "id": "fiweN_L8L6rs",
        "outputId": "ae704ca6-a780-41eb-de67-d260976adce6"
      },
      "outputs": [
        {
          "name": "stderr",
          "output_type": "stream",
          "text": [
            "/usr/local/lib/python3.10/dist-packages/langchain_core/_api/deprecation.py:139: LangChainDeprecationWarning: The class `Cohere` was deprecated in LangChain 0.1.14 and will be removed in 0.3.0. An updated version of the class exists in the langchain-cohere package and should be used instead. To use it run `pip install -U langchain-cohere` and import as `from langchain_cohere import Cohere`.\n",
            "  warn_deprecated(\n"
          ]
        }
      ],
      "source": [
        "# import\n",
        "from langchain_chroma import Chroma\n",
        "from langchain.text_splitter import RecursiveCharacterTextSplitter\n",
        "from langchain.document_loaders import PyPDFDirectoryLoader\n",
        "from langchain_cohere import CohereEmbeddings\n",
        "from langchain_community.llms import Cohere\n",
        "\n",
        "llm = Cohere(model=\"command-r-plus\", max_tokens=1024, temperature=0.2)\n",
        "\n",
        "def Retriever(folder_path,chunk_size=1200, chunk_overlap=200):\n",
        "    # Load documents from the specified folder\n",
        "    loader = PyPDFDirectoryLoader(folder_path)\n",
        "    documents = loader.load()\n",
        "\n",
        "    # Split documents into chunks\n",
        "    text_splitter = RecursiveCharacterTextSplitter(chunk_size=chunk_size , chunk_overlap=chunk_overlap)\n",
        "    chunks = text_splitter.split_documents(documents)\n",
        "\n",
        "    embeddings = CohereEmbeddings(model=\"embed-english-light-v3.0\")\n",
        "\n",
        "    # Create a Chroma vector store from the document chunks and embeddings\n",
        "    db = Chroma.from_documents(chunks, embeddings)\n",
        "    return db.as_retriever()\n",
        "\n",
        "# Initialize the Retriever with the path to your PDF data source\n",
        "retriever = Retriever(file_name=\"your_data_source-folder\",chunk_size=1200, chunk_overlap=200)\n"
      ]
    },
    {
      "cell_type": "code",
      "execution_count": null,
      "metadata": {
        "id": "hEAelP5xQNl3"
      },
      "outputs": [],
      "source": [
        "retriever.invoke(\"What is MOA ? \")"
      ]
    },
    {
      "cell_type": "code",
      "execution_count": null,
      "metadata": {
        "colab": {
          "base_uri": "https://localhost:8080/"
        },
        "id": "xaYI6af7OmBf",
        "outputId": "4b6ecaca-c814-42f9-ee48-3f46d1949949"
      },
      "outputs": [
        {
          "name": "stdout",
          "output_type": "stream",
          "text": [
            "datasource='vectorstore'\n",
            "datasource='websearch'\n"
          ]
        }
      ],
      "source": [
        "from typing import Literal\n",
        "\n",
        "from langchain_core.prompts import (\n",
        "    ChatPromptTemplate,\n",
        "    HumanMessagePromptTemplate,\n",
        "    SystemMessagePromptTemplate,\n",
        ")\n",
        "from langchain_core.pydantic_v1 import BaseModel, Field\n",
        "from langchain.output_parsers import StructuredOutputParser, PydanticOutputParser\n",
        "\n",
        "# Data model\n",
        "class RouteQuery(BaseModel):\n",
        "    \"\"\"Route a user query to the most relevant datasource.\"\"\"\n",
        "\n",
        "    datasource: Literal[\"vectorstore\", \"websearch\"] = Field(\n",
        "        ...,\n",
        "        description=\"Given a user question choose to route it to web search or a vectorstore.\",\n",
        "    )\n",
        "\n",
        "# Output parser\n",
        "routing_parser = PydanticOutputParser(pydantic_object=RouteQuery)\n",
        "\n",
        "# Prompt\n",
        "routing_system_template = \"\"\"You are an expert at routing a user question to a vectorstore or websearch.\n",
        "The vectorstore contains documents related to new AI Method called Mixture-of-Agents (MoA) .\n",
        "Use the vectorstore for questions on these topics. For all else, use websearch.\"\"\"\n",
        "routing_system_message_prompt = SystemMessagePromptTemplate.from_template(routing_system_template)\n",
        "\n",
        "routing_human_template = \"{question}\\n\\n{format_instructions}\"\n",
        "routing_human_message_prompt = HumanMessagePromptTemplate.from_template(routing_human_template)\n",
        "\n",
        "# Combine prompts and add formatting instructions for structured output\n",
        "chat_prompt = ChatPromptTemplate.from_messages(\n",
        "    [routing_system_message_prompt, routing_human_message_prompt]\n",
        ")\n",
        "\n",
        "# Format instructions for the LLM\n",
        "routing_format_instructions = routing_parser.get_format_instructions()\n",
        "\n",
        "# Create a chain to generate and parse the response\n",
        "routing_chain = chat_prompt | llm | routing_parser\n",
        "\n",
        "# Test the chain\n",
        "print(routing_chain.invoke({\"question\": \"What is MOA ? \", \"format_instructions\": routing_format_instructions}))\n",
        "print(routing_chain.invoke({\"question\": \"Who is barak obama ?\", \"format_instructions\": routing_format_instructions}))"
      ]
    },
    {
      "cell_type": "code",
      "execution_count": null,
      "metadata": {
        "colab": {
          "base_uri": "https://localhost:8080/"
        },
        "id": "dLJ38jaiadvc",
        "outputId": "fa27ba32-f7c1-44c9-d2b1-c930d00dff95"
      },
      "outputs": [
        {
          "name": "stdout",
          "output_type": "stream",
          "text": [
            "binary_score='yes'\n"
          ]
        }
      ],
      "source": [
        "from langchain_core.prompts import ChatPromptTemplate, SystemMessagePromptTemplate, HumanMessagePromptTemplate\n",
        "from langchain_core.pydantic_v1 import BaseModel, Field\n",
        "from langchain.output_parsers import PydanticOutputParser\n",
        "\n",
        "# Data model\n",
        "class GradeDocuments(BaseModel):\n",
        "    \"\"\"Binary score for relevance check on retrieved documents.\"\"\"\n",
        "    binary_score: Literal[\"yes\", \"no\"] = Field(description=\"Documents are relevant to the question, 'yes' or 'no'\")\n",
        "\n",
        "# Output parser\n",
        "relevance_parser = PydanticOutputParser(pydantic_object=GradeDocuments)\n",
        "\n",
        "\n",
        "\n",
        "# System prompt\n",
        "relevance_system_template = \"\"\"You are a grader assessing relevance of a retrieved document to a user question.\n",
        "If the document contains keyword(s) or semantic meaning related to the question, grade it as relevant.\n",
        "Give a binary score 'yes' or 'no' score to indicate whether the document is relevant to the question.\"\"\"\n",
        "relevance_system_message_prompt = SystemMessagePromptTemplate.from_template(relevance_system_template)\n",
        "\n",
        "# Human prompt\n",
        "relevance_human_template = \"Retrieved document: \\n\\n {document} \\n\\n User question: {question}\\n\\n{format_instructions}\"\n",
        "relevance_human_message_prompt = HumanMessagePromptTemplate.from_template(relevance_human_template)\n",
        "\n",
        "# Combine prompts into a chat prompt template\n",
        "chat_prompt = ChatPromptTemplate.from_messages(\n",
        "    [relevance_system_message_prompt, relevance_human_message_prompt]\n",
        ")\n",
        "\n",
        "# Format instructions for the LLM\n",
        "retrieval_format_instructions = relevance_parser.get_format_instructions()\n",
        "\n",
        "# Create a chain to generate and parse the response\n",
        "retrieval_grader_relevance = chat_prompt | llm | relevance_parser\n",
        "\n",
        "# Example inputs (replace with actual retrieval and LLM instances)\n",
        "question = \"What is MOA ? \"\n",
        "docs = retriever.invoke(question)  # Assuming `retriever` is your document retriever instance\n",
        "doc_txt = docs[1].page_content  # Access the content of the second retrieved document\n",
        "\n",
        "# Test the chain\n",
        "result = retrieval_grader_relevance.invoke({\n",
        "    \"question\": question,\n",
        "    \"document\": doc_txt,\n",
        "    \"format_instructions\": retrieval_format_instructions\n",
        "})\n",
        "\n",
        "print(result)\n"
      ]
    },
    {
      "cell_type": "code",
      "execution_count": null,
      "metadata": {
        "colab": {
          "base_uri": "https://localhost:8080/"
        },
        "id": "7nVv7X7ZViWc",
        "outputId": "f13f0e82-3229-405d-a013-2c01a6fb4e26"
      },
      "outputs": [
        {
          "name": "stdout",
          "output_type": "stream",
          "text": [
            "Mixture-of-Agents is a layered architecture comprised of LLM agents, where each layer's agents use outputs from the previous layer to generate responses.\n"
          ]
        }
      ],
      "source": [
        "### Generate\n",
        "\n",
        "from langchain_core.output_parsers import StrOutputParser\n",
        "\n",
        "# Prompt\n",
        "prompt = ChatPromptTemplate.from_template(\n",
        "    \"\"\"You are an assistant for question-answering tasks. Use the following pieces of retrieved context to answer the question. If you don't know the answer, just say that you don't know. Use three sentences maximum and keep the answer concise.\n",
        "Question: {question}\n",
        "Context: {context}\n",
        "Answer:\"\"\"\n",
        ")\n",
        "\n",
        "# Chain\n",
        "rag_chain = prompt | llm | StrOutputParser()\n",
        "\n",
        "# Run\n",
        "generation = rag_chain.invoke({\"context\": docs, \"question\": question})\n",
        "print(generation)"
      ]
    },
    {
      "cell_type": "code",
      "execution_count": null,
      "metadata": {
        "colab": {
          "base_uri": "https://localhost:8080/"
        },
        "id": "D02BlpsXVzfd",
        "outputId": "563b642c-cdf0-4e54-fe5b-e0a7481fc57d"
      },
      "outputs": [
        {
          "name": "stdout",
          "output_type": "stream",
          "text": [
            "binary_score='yes'\n"
          ]
        }
      ],
      "source": [
        "from typing import Literal\n",
        "from langchain_core.prompts import (\n",
        "    ChatPromptTemplate,\n",
        "    HumanMessagePromptTemplate,\n",
        "    SystemMessagePromptTemplate,\n",
        ")\n",
        "from langchain_core.pydantic_v1 import BaseModel, Field\n",
        "from langchain.output_parsers import StructuredOutputParser, PydanticOutputParser\n",
        "\n",
        "# Data model\n",
        "class GradeHallucinations(BaseModel):\n",
        "    \"\"\"Binary score for hallucination present in generation answer.\"\"\"\n",
        "    binary_score: Literal[\"yes\", \"no\"] = Field(...,description=\"Don't consider calling external APIs for additional information. Answer is supported by the facts, 'yes' or 'no'.\")\n",
        "\n",
        "# Output parser\n",
        "grader_parser = PydanticOutputParser(pydantic_object=GradeHallucinations)\n",
        "\n",
        "# System prompt\n",
        "grader_system_template = \"\"\"You are a grader assessing whether an LLM generation is supported by a set of retrieved facts.\n",
        "Restrict yourself to give a binary score, either 'yes' or 'no'. If the answer is supported or partially supported by the set of facts, consider it a yes.\n",
        "Don't consider calling external APIs for additional information as consistent with the facts.\"\"\"\n",
        "grader_system_message_prompt = SystemMessagePromptTemplate.from_template(grader_system_template)\n",
        "\n",
        "# Human prompt\n",
        "grader_human_template = \"Set of facts: \\n\\n {documents} \\n\\n LLM generation: {generation}\\n\\n{format_instructions}\"\n",
        "grader_human_message_prompt = HumanMessagePromptTemplate.from_template(grader_human_template)\n",
        "\n",
        "# Combine prompts into a chat prompt template\n",
        "grader_chat_prompt = ChatPromptTemplate.from_messages(\n",
        "    [grader_system_message_prompt, grader_human_message_prompt]\n",
        ")\n",
        "\n",
        "# Format instructions for the LLM\n",
        "grader_format_instructions = grader_parser.get_format_instructions()\n",
        "\n",
        "# Create a chain to generate and parse the response\n",
        "hallucination_grader = grader_chat_prompt | llm | grader_parser\n",
        "\n",
        "\n",
        "# Test the chain\n",
        "result = hallucination_grader.invoke({\n",
        "    \"documents\": docs,\n",
        "    \"generation\": generation,\n",
        "    \"format_instructions\": grader_format_instructions\n",
        "})\n",
        "\n",
        "print(result)\n"
      ]
    },
    {
      "cell_type": "code",
      "execution_count": null,
      "metadata": {
        "colab": {
          "base_uri": "https://localhost:8080/"
        },
        "id": "Jpd2glL7g0MR",
        "outputId": "305a7765-96ad-4a2a-f36c-5ebb5fc85e62"
      },
      "outputs": [
        {
          "name": "stdout",
          "output_type": "stream",
          "text": [
            "binary_score='yes'\n"
          ]
        }
      ],
      "source": [
        "# Data model\n",
        "class GradeAnswer(BaseModel):\n",
        "    \"\"\"Binary score to assess if the answer addresses the question.\"\"\"\n",
        "    binary_score: Literal[\"yes\", \"no\"] = Field(description=\"Answer addresses the question, 'yes' or 'no'\")\n",
        "\n",
        "# Output parser\n",
        "answer_grader_parser = PydanticOutputParser(pydantic_object=GradeAnswer)\n",
        "\n",
        "# System prompt\n",
        "answer_grader_system_template = \"\"\"You are a grader assessing whether an answer addresses / resolves a question.\n",
        "Give a binary score 'yes' or 'no'. 'Yes' means that the answer resolves the question.\"\"\"\n",
        "answer_grader_system_message_prompt = SystemMessagePromptTemplate.from_template(answer_grader_system_template)\n",
        "\n",
        "# Human prompt\n",
        "answer_grader_human_template = \"User question: \\n\\n {question} \\n\\n LLM generation: {generation}\\n\\n{format_instructions}\"\n",
        "answer_grader_human_message_prompt = HumanMessagePromptTemplate.from_template(answer_grader_human_template)\n",
        "\n",
        "# Combine prompts into a chat prompt template\n",
        "chat_prompt = ChatPromptTemplate.from_messages(\n",
        "    [answer_grader_system_message_prompt, answer_grader_human_message_prompt]\n",
        ")\n",
        "\n",
        "# Format instructions for the LLM\n",
        "answer_format_instructions = answer_grader_parser.get_format_instructions()\n",
        "\n",
        "# Create a chain to generate and parse the response\n",
        "answer_grader = chat_prompt | llm | answer_grader_parser\n",
        "\n",
        "# Test the chain\n",
        "result = answer_grader.invoke({\n",
        "    \"question\": question,\n",
        "    \"generation\": generation,\n",
        "    \"format_instructions\": answer_format_instructions\n",
        "})\n",
        "\n",
        "print(result)"
      ]
    },
    {
      "cell_type": "code",
      "execution_count": null,
      "metadata": {
        "id": "Jg0NOwthcTBd"
      },
      "outputs": [],
      "source": [
        "from langchain_community.tools import DuckDuckGoSearchRun\n",
        "\n",
        "duckduckgo_search = DuckDuckGoSearchRun()"
      ]
    },
    {
      "cell_type": "code",
      "execution_count": null,
      "metadata": {
        "id": "eRPYug48c2ZC"
      },
      "outputs": [],
      "source": [
        "from typing_extensions import TypedDict\n",
        "from typing import List\n",
        "\n",
        "class GraphState(TypedDict):\n",
        "    \"\"\"\n",
        "    Represents the state of our graph.\n",
        "\n",
        "    Attributes:\n",
        "        question: question\n",
        "        generation: LLM generation\n",
        "        web_search: whether to add search\n",
        "        documents: list of documents\n",
        "    \"\"\"\n",
        "    question : str\n",
        "    generation : str\n",
        "    web_search : str\n",
        "    documents : List[str]"
      ]
    },
    {
      "cell_type": "code",
      "execution_count": null,
      "metadata": {
        "id": "XFmNWzIoc7-f"
      },
      "outputs": [],
      "source": [
        "from langchain.schema import Document\n",
        "\n",
        "### Nodes\n",
        "\n",
        "def retrieve(state):\n",
        "    \"\"\"\n",
        "    Retrieve documents from vectorstore\n",
        "\n",
        "    Args:\n",
        "        state (dict): The current graph state\n",
        "\n",
        "    Returns:\n",
        "        state (dict): New key added to state, documents, that contains retrieved documents\n",
        "    \"\"\"\n",
        "    print(\"---RETRIEVE from Vector Store DB---\")\n",
        "    question = state[\"question\"]\n",
        "\n",
        "    # Retrieval\n",
        "    documents = retriever.invoke(question)\n",
        "    return {\"documents\": documents, \"question\": question}"
      ]
    },
    {
      "cell_type": "code",
      "execution_count": null,
      "metadata": {
        "id": "5YxnBhP9c_Yh"
      },
      "outputs": [],
      "source": [
        "def generate(state):\n",
        "    \"\"\"\n",
        "    Generate answer using RAG on retrieved documents\n",
        "\n",
        "    Args:\n",
        "        state (dict): The current graph state\n",
        "\n",
        "    Returns:\n",
        "        state (dict): New key added to state, generation, that contains LLM generation\n",
        "    \"\"\"\n",
        "    print(\"---GENERATE Answer---\")\n",
        "    question = state[\"question\"]\n",
        "    documents = state[\"documents\"]\n",
        "\n",
        "    # RAG generation\n",
        "    generation = rag_chain.invoke({\"context\": documents, \"question\": question})\n",
        "    return {\"documents\": documents, \"question\": question, \"generation\": generation}"
      ]
    },
    {
      "cell_type": "code",
      "execution_count": null,
      "metadata": {
        "id": "5OvqhviFdJQ1"
      },
      "outputs": [],
      "source": [
        "def grade_documents(state):\n",
        "    \"\"\"\n",
        "    Determines whether the retrieved documents are relevant to the question\n",
        "    If any document is not relevant, we will set a flag to run web search\n",
        "\n",
        "    Args:\n",
        "        state (dict): The current graph state\n",
        "\n",
        "    Returns:\n",
        "        state (dict): Filtered out irrelevant documents and updated web_search state\n",
        "    \"\"\"\n",
        "\n",
        "    print(\"---CHECK DOCUMENT RELEVANCE TO QUESTION---\")\n",
        "    question = state[\"question\"]\n",
        "    documents = state[\"documents\"]\n",
        "    # Score each doc\n",
        "    filtered_docs = []\n",
        "    web_search = \"No\"\n",
        "    for d in documents:\n",
        "        score = retrieval_grader_relevance.invoke({\"question\": question, \"document\": d.page_content , \"format_instructions\" : retrieval_format_instructions})\n",
        "        grade = score.binary_score\n",
        "        # Document relevant\n",
        "        if grade.lower() == \"yes\":\n",
        "            print(\"---GRADE: DOCUMENT RELEVANT---\")\n",
        "            filtered_docs.append(d)\n",
        "        # Document not relevant\n",
        "        else:\n",
        "            print(\"---GRADE: DOCUMENT NOT RELEVANT---\")\n",
        "            # We do not include the document in filtered_docs\n",
        "            # We set a flag to indicate that we want to run web search\n",
        "            web_search = \"Yes\"\n",
        "            continue\n",
        "    return {\"documents\": filtered_docs, \"question\": question, \"web_search\": web_search}"
      ]
    },
    {
      "cell_type": "code",
      "execution_count": null,
      "metadata": {
        "id": "sXoDOs5td5ky"
      },
      "outputs": [],
      "source": [
        "def web_search(state):\n",
        "    \"\"\"\n",
        "    Web search based based on the question\n",
        "\n",
        "    Args:\n",
        "        state (dict): The current graph state\n",
        "\n",
        "    Returns:\n",
        "        state (dict): Appended web results to documents\n",
        "    \"\"\"\n",
        "\n",
        "    print(\"---WEB SEARCH. Append to vector store db---\")\n",
        "    question = state[\"question\"]\n",
        "    documents = state[\"documents\"]\n",
        "\n",
        "    # Web search\n",
        "    docs = duckduckgo_search.invoke({\"query\": question})\n",
        "    web_results = Document(page_content=docs)\n",
        "    if documents is not None:\n",
        "        documents.append(web_results)\n",
        "    else:\n",
        "        documents = [web_results]\n",
        "    return {\"documents\": documents, \"question\": question}"
      ]
    },
    {
      "cell_type": "code",
      "execution_count": null,
      "metadata": {
        "id": "yk5Z-CxGeSNV"
      },
      "outputs": [],
      "source": [
        "def route_question(state):\n",
        "    \"\"\"\n",
        "    Route question to web search or RAG\n",
        "\n",
        "    Args:\n",
        "        state (dict): The current graph state\n",
        "\n",
        "    Returns:\n",
        "        str: Next node to call\n",
        "    \"\"\"\n",
        "\n",
        "    print(\"---ROUTE QUESTION---\")\n",
        "    question = state[\"question\"]\n",
        "\n",
        "    source = routing_chain.invoke({\"question\": question , \"format_instructions\" : routing_format_instructions})\n",
        "    if source.datasource == 'websearch':\n",
        "        print(\"---ROUTE QUESTION TO WEB SEARCH---\")\n",
        "        return \"websearch\"\n",
        "    elif source.datasource == 'vectorstore':\n",
        "        print(\"---ROUTE QUESTION TO RAG---\")\n",
        "        return \"vectorstore\"\n"
      ]
    },
    {
      "cell_type": "code",
      "execution_count": null,
      "metadata": {
        "id": "k6YmcHgWevN6"
      },
      "outputs": [],
      "source": [
        "def decide_to_generate(state):\n",
        "    \"\"\"\n",
        "    Determines whether to generate an answer, or add web search\n",
        "\n",
        "    Args:\n",
        "        state (dict): The current graph state\n",
        "\n",
        "    Returns:\n",
        "        str: Binary decision for next node to call\n",
        "    \"\"\"\n",
        "\n",
        "    print(\"---ASSESS GRADED DOCUMENTS---\")\n",
        "    question = state[\"question\"]\n",
        "    web_search = state[\"web_search\"]\n",
        "    filtered_documents = state[\"documents\"]\n",
        "\n",
        "    if web_search == \"Yes\":\n",
        "        # All documents have been filtered check_relevance\n",
        "        # We will re-generate a new query\n",
        "        print(\"---DECISION: ALL DOCUMENTS ARE NOT RELEVANT TO QUESTION, INCLUDE WEB SEARCH---\")\n",
        "        return \"websearch\"\n",
        "    else:\n",
        "        # We have relevant documents, so generate answer\n",
        "        print(\"---DECISION: GENERATE---\")\n",
        "        return \"generate\"\n"
      ]
    },
    {
      "cell_type": "code",
      "execution_count": null,
      "metadata": {
        "id": "b7JnIUsoe6_R"
      },
      "outputs": [],
      "source": [
        "def grade_generation_v_documents_and_question(state):\n",
        "    \"\"\"\n",
        "    Determines whether the generation is grounded in the document and answers question\n",
        "\n",
        "    Args:\n",
        "        state (dict): The current graph state\n",
        "\n",
        "    Returns:\n",
        "        str: Decision for next node to call\n",
        "    \"\"\"\n",
        "\n",
        "    print(\"---CHECK HALLUCINATIONS---\")\n",
        "    question = state[\"question\"]\n",
        "    documents = state[\"documents\"]\n",
        "    generation = state[\"generation\"]\n",
        "\n",
        "    score = hallucination_grader.invoke({\"documents\": documents, \"generation\": generation , \"format_instructions\"  : grader_format_instructions})\n",
        "    grade = score.binary_score\n",
        "\n",
        "    # Check hallucination\n",
        "    if grade == \"yes\":\n",
        "        print(\"---DECISION: GENERATION IS GROUNDED IN DOCUMENTS---\")\n",
        "        # Check question-answering\n",
        "        print(\"---GRADE GENERATION vs QUESTION---\")\n",
        "        score = answer_grader.invoke({\"question\": question,\"generation\": generation , \"format_instructions\" : answer_format_instructions})\n",
        "        grade = score.binary_score\n",
        "        if grade == \"yes\":\n",
        "            print(\"---DECISION: GENERATION ADDRESSES QUESTION---\")\n",
        "            return \"useful\"\n",
        "        else:\n",
        "            print(\"---DECISION: GENERATION DOES NOT ADDRESS QUESTION---\")\n",
        "            return \"not useful\"\n",
        "    else:\n",
        "        print(\"---DECISION: GENERATION IS NOT GROUNDED IN DOCUMENTS, RE-TRY---\")\n",
        "        return \"not supported\""
      ]
    },
    {
      "cell_type": "code",
      "execution_count": null,
      "metadata": {
        "id": "pa1my_RijqV0"
      },
      "outputs": [],
      "source": [
        "from langgraph.graph import END, StateGraph\n",
        "\n",
        "workflow = StateGraph(GraphState)\n",
        "\n",
        "# Define the nodes\n",
        "workflow.add_node(\"websearch\", web_search) # web search # key: action to do\n",
        "workflow.add_node(\"retrieve\", retrieve) # retrieve\n",
        "workflow.add_node(\"grade_documents\", grade_documents) # grade documents\n",
        "workflow.add_node(\"generate\", generate) # generatae\n",
        "\n",
        "workflow.add_edge(\"websearch\", \"generate\") #start -> end of node\n",
        "workflow.add_edge(\"retrieve\", \"grade_documents\")\n",
        "\n",
        "# Build graph\n",
        "workflow.set_conditional_entry_point(\n",
        "    route_question,\n",
        "    {\n",
        "        \"websearch\": \"websearch\",\n",
        "        \"vectorstore\": \"retrieve\",\n",
        "    },\n",
        ")\n",
        "\n",
        "workflow.add_conditional_edges(\n",
        "    \"grade_documents\", # start: node\n",
        "    decide_to_generate, # defined function\n",
        "    {\n",
        "        \"websearch\": \"websearch\", #returns of the function\n",
        "        \"generate\": \"generate\",   #returns of the function\n",
        "    },\n",
        ")\n",
        "workflow.add_conditional_edges(\n",
        "    \"generate\", # start: node\n",
        "    grade_generation_v_documents_and_question, # defined function\n",
        "    {\n",
        "        \"not supported\": \"generate\", #returns of the function\n",
        "        \"useful\": END,               #returns of the function\n",
        "        \"not useful\": \"websearch\",   #returns of the function\n",
        "    },\n",
        ")\n",
        "\n",
        "# Compile\n",
        "app = workflow.compile()"
      ]
    },
    {
      "cell_type": "code",
      "execution_count": null,
      "metadata": {
        "colab": {
          "base_uri": "https://localhost:8080/"
        },
        "id": "DrAWdHHzj2O3",
        "outputId": "d4b8b2da-65b1-4dbf-94d9-7bfd266ec508"
      },
      "outputs": [
        {
          "name": "stdout",
          "output_type": "stream",
          "text": [
            "---ROUTE QUESTION---\n",
            "---ROUTE QUESTION TO RAG---\n",
            "---RETRIEVE from Vector Store DB---\n",
            "'Finished running: retrieve:'\n",
            "---CHECK DOCUMENT RELEVANCE TO QUESTION---\n",
            "---GRADE: DOCUMENT RELEVANT---\n",
            "---GRADE: DOCUMENT RELEVANT---\n",
            "---GRADE: DOCUMENT RELEVANT---\n",
            "---GRADE: DOCUMENT RELEVANT---\n",
            "---ASSESS GRADED DOCUMENTS---\n",
            "---DECISION: GENERATE---\n",
            "'Finished running: grade_documents:'\n",
            "---GENERATE Answer---\n",
            "---CHECK HALLUCINATIONS---\n",
            "---DECISION: GENERATION IS GROUNDED IN DOCUMENTS---\n",
            "---GRADE GENERATION vs QUESTION---\n",
            "---DECISION: GENERATION ADDRESSES QUESTION---\n",
            "'Finished running: generate:'\n",
            "('Mixture-of-Agents (MoA) is a methodology that utilizes multiple LLMs to '\n",
            " 'iteratively synthesize and refine responses, improving overall output '\n",
            " 'quality. MoA enhances collaborative potential by introducing additional '\n",
            " 'aggregators to build upon outputs from other models. This approach has shown '\n",
            " 'substantial improvements in response quality over relying on a single model.')\n"
          ]
        }
      ],
      "source": [
        "from pprint import pprint\n",
        "inputs = {\"question\": \"what is Mixture-of-Agents (MoA) ? \"}\n",
        "for output in app.stream(inputs):\n",
        "    for key, value in output.items():\n",
        "        pprint(f\"Finished running: {key}:\")\n",
        "pprint(value[\"generation\"])"
      ]
    },
    {
      "cell_type": "code",
      "execution_count": null,
      "metadata": {
        "colab": {
          "base_uri": "https://localhost:8080/"
        },
        "id": "CWpfgW7rlx2Y",
        "outputId": "a3d3dee0-5248-4ae2-b455-7f410aa515a0"
      },
      "outputs": [
        {
          "name": "stdout",
          "output_type": "stream",
          "text": [
            "---ROUTE QUESTION---\n",
            "---ROUTE QUESTION TO WEB SEARCH---\n",
            "---WEB SEARCH. Append to vector store db---\n",
            "'Finished running: websearch:'\n",
            "---GENERATE Answer---\n",
            "---CHECK HALLUCINATIONS---\n",
            "---DECISION: GENERATION IS GROUNDED IN DOCUMENTS---\n",
            "---GRADE GENERATION vs QUESTION---\n",
            "---DECISION: GENERATION ADDRESSES QUESTION---\n",
            "'Finished running: generate:'\n",
            "('Barack Obama was the 44th President of the United States, serving from 2009 '\n",
            " 'to 2017. He was the first African American to hold this office and is known '\n",
            " 'for his charismatic personality and focus on political change. Obama '\n",
            " 'previously served in the Illinois Senate and is the son of a Kenyan father '\n",
            " 'and a white mother.')\n"
          ]
        }
      ],
      "source": [
        "from pprint import pprint\n",
        "inputs = {\"question\": \"Who is barak obama ?\"}\n",
        "for output in app.stream(inputs):\n",
        "    for key, value in output.items():\n",
        "        pprint(f\"Finished running: {key}:\")\n",
        "pprint(value[\"generation\"])"
      ]
    }
  ],
  "metadata": {
    "colab": {
      "provenance": []
    },
    "kernelspec": {
      "display_name": "Python 3",
      "name": "python3"
    },
    "language_info": {
      "name": "python"
    }
  },
  "nbformat": 4,
  "nbformat_minor": 0
}
